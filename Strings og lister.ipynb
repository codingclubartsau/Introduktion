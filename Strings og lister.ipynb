{
 "cells": [
  {
   "cell_type": "markdown",
   "id": "b274fd89",
   "metadata": {},
   "source": [
    "# Tekstanalyse - Strings og lister\n",
    "\n",
    "En string i python er en streng af tekst som er omkranset af \" \" eller ' '. En liste er elementer der er omkranset af [ ].\n",
    "\n",
    "Eksempelvis er \"Hej!\" en string, og ['H', 'e', 'j', '!'] er en liste af strings."
   ]
  },
  {
   "cell_type": "code",
   "execution_count": 13,
   "id": "968b5f27",
   "metadata": {},
   "outputs": [],
   "source": [
    "tekststreng = \"Hej!\"\n",
    "tekst_i_liste = [\"H\", \"e\", \"j\", \"!\"]\n"
   ]
  },
  {
   "cell_type": "markdown",
   "id": "cd9a526b",
   "metadata": {},
   "source": [
    "Man kan få forskellige elementer ud fra både strings og lister. Det kan vi gøre ved det man kalder et 'indeks'. I python starter indeks ved 0,1,2 osv. op til det antal elementer der er i din streng af tekst eller i din liste af elementer.\n",
    "\n",
    "Vi får indeks frem ved at kalde 'tekststreng[i]' og 'tekst_i_list[i]' - hvor i er indeks."
   ]
  },
  {
   "cell_type": "code",
   "execution_count": 20,
   "id": "62f17d6d",
   "metadata": {},
   "outputs": [
    {
     "data": {
      "text/plain": [
       "'j'"
      ]
     },
     "execution_count": 20,
     "metadata": {},
     "output_type": "execute_result"
    }
   ],
   "source": [
    "tekststreng[2]"
   ]
  },
  {
   "cell_type": "markdown",
   "id": "36969b1f",
   "metadata": {},
   "source": [
    "Vi kan også samle elementerne i listen til én string:"
   ]
  },
  {
   "cell_type": "code",
   "execution_count": 23,
   "id": "a40f82b7",
   "metadata": {},
   "outputs": [
    {
     "name": "stdout",
     "output_type": "stream",
     "text": [
      "Hej!\n"
     ]
    }
   ],
   "source": [
    "een_string = \"\".join(tekst_i_liste)\n",
    "print(een_string)"
   ]
  },
  {
   "cell_type": "markdown",
   "id": "d0dd1ae7",
   "metadata": {},
   "source": [
    "Eller enkelte elementer:"
   ]
  },
  {
   "cell_type": "code",
   "execution_count": 24,
   "id": "daf27c15",
   "metadata": {},
   "outputs": [
    {
     "name": "stdout",
     "output_type": "stream",
     "text": [
      "ej\n"
     ]
    }
   ],
   "source": [
    "sammensat = tekst_i_liste[1]+tekst_i_liste[2]\n",
    "print(sammensat)"
   ]
  },
  {
   "cell_type": "markdown",
   "id": "8247a199",
   "metadata": {},
   "source": [
    "# Nyttige kommandoer: \n",
    "* print() - printer teksten under den variabel man skriver i parentesen\n",
    "* variabelnavn.split() - deler (splitter) det variabelnavn du skriver i parentesen ved tekstens mellemrum. Prøv at skrive \".\" inde i parentesen, og se hvad der sker\n",
    "* len() - måler længden af den variabel (antal tegn/enheder i din liste eller string)\n",
    "* variabelnavn.replace() - kan bytte én ting ud med en anden i din tekst. Hvis jeg vil bytte mellemrum med punktum skriver jeg variabelnavn.replace(\" \", \".\")\n",
    "* variabelnavn = [ ] - laver en tom liste under navnet 'variabelnavn'\n",
    "* variabelnavn.append() - tilføjer det element man skriver i parentes i listen der hedder 'variabelnavn'\n",
    "* variabelnavn.startswith(\"ord\") - tjekker om din string starter med det,der står i parentesen.\n",
    "* variabelnavn.endswith(\"ord\") - tjekker om din string slutter med det, der står i parentesen\n",
    "\n",
    "Prøv at køre noget af koden i nedenstående kodefelt:"
   ]
  },
  {
   "cell_type": "code",
   "execution_count": 4,
   "id": "4676396f",
   "metadata": {},
   "outputs": [
    {
     "name": "stdout",
     "output_type": "stream",
     "text": [
      "Hej verden. Jeg er en test-tekst. Prøv de forskellige funktioner på mig!\n"
     ]
    }
   ],
   "source": [
    "testtekst = \"Hej verden. Jeg er en test-tekst. Prøv de forskellige funktioner på mig!\"\n",
    "\n",
    "print(testtekst)"
   ]
  },
  {
   "cell_type": "markdown",
   "id": "49d56244",
   "metadata": {},
   "source": [
    "Desuden er det nyttigt at vide hvad et for-loop er. Det forstås nemmest gennem et eksempel:\n",
    "Jeg vil gerne tælle hvor mange antal tegn der er i hver sætning i testteksten. Først deles testteksten op i sætninger:"
   ]
  },
  {
   "cell_type": "code",
   "execution_count": 6,
   "id": "068b1171",
   "metadata": {},
   "outputs": [
    {
     "name": "stdout",
     "output_type": "stream",
     "text": [
      "['Hej verden', ' Jeg er en test-tekst', ' Prøv de forskellige funktioner på mig!']\n"
     ]
    }
   ],
   "source": [
    "sætninger = testtekst.split(\".\")\n",
    "\n",
    "print(sætninger)"
   ]
  },
  {
   "cell_type": "markdown",
   "id": "16ae17e1",
   "metadata": {},
   "source": [
    "Nu er vi klar til at lave vores for-loop. Syntaksen i et for-loop skal forstås \"for hver sætning i listen 'sætninger': tæl og print antal tegn i sætningen\". Det ser sådan ud med kode:"
   ]
  },
  {
   "cell_type": "code",
   "execution_count": 6,
   "id": "d511a416",
   "metadata": {},
   "outputs": [
    {
     "name": "stdout",
     "output_type": "stream",
     "text": [
      "10\n",
      "21\n",
      "39\n"
     ]
    }
   ],
   "source": [
    "for sætning in sætninger:\n",
    "    print(len(sætning))"
   ]
  },
  {
   "cell_type": "markdown",
   "id": "7c640b57",
   "metadata": {},
   "source": [
    "En sidste nyttig ting at kende til er en måde at tælle hyppigheden af forekomster - det kunne eksempelvis være antal gange et specifikt ord eller tegn nævnes.\n",
    "\n",
    "Til dette skal vi bruge en pakke der hedder collections, hvori der ligger en funktion 'Counter' der er kodet til at tælle ting op smart.\n",
    "Vi henter funktionen ind så vi kan bruge den i programmet ved at skrive:"
   ]
  },
  {
   "cell_type": "code",
   "execution_count": 7,
   "id": "6e0d8e92",
   "metadata": {},
   "outputs": [],
   "source": [
    "from collections import Counter"
   ]
  },
  {
   "cell_type": "markdown",
   "id": "e5663d8e",
   "metadata": {},
   "source": [
    "Nu kan vi eksempelvis tælle hvor mange gange hvert bogstav forekommer i testteksten:"
   ]
  },
  {
   "cell_type": "code",
   "execution_count": 8,
   "id": "fc13f93e",
   "metadata": {},
   "outputs": [
    {
     "data": {
      "text/plain": [
       "Counter({'H': 1,\n",
       "         'e': 12,\n",
       "         'j': 1,\n",
       "         ' ': 11,\n",
       "         'v': 2,\n",
       "         'r': 5,\n",
       "         'd': 2,\n",
       "         'n': 4,\n",
       "         '.': 2,\n",
       "         'J': 1,\n",
       "         'g': 3,\n",
       "         't': 5,\n",
       "         's': 3,\n",
       "         '-': 1,\n",
       "         'k': 3,\n",
       "         'P': 1,\n",
       "         'ø': 1,\n",
       "         'f': 2,\n",
       "         'o': 2,\n",
       "         'l': 2,\n",
       "         'i': 3,\n",
       "         'u': 1,\n",
       "         'p': 1,\n",
       "         'å': 1,\n",
       "         'm': 1,\n",
       "         '!': 1})"
      ]
     },
     "execution_count": 8,
     "metadata": {},
     "output_type": "execute_result"
    }
   ],
   "source": [
    "Counter(testtekst)"
   ]
  },
  {
   "cell_type": "markdown",
   "id": "c0abae6d",
   "metadata": {},
   "source": [
    "# Lille komparativ analyse\n",
    "Nu har vi nok redskaber til at lave en lille sammenlignende analyse af to tekster.\n",
    "\n",
    "Begge tekster er fra DR's nyhedsarkiv, hvor den ene artikel henvender sig til børn og den anden artikel henvender sig til voksne. Artiklerne diskuterer en alternativ karakterskala til vores nuværende karakterskala."
   ]
  },
  {
   "cell_type": "code",
   "execution_count": 12,
   "id": "e31d7779",
   "metadata": {},
   "outputs": [
    {
     "name": "stdout",
     "output_type": "stream",
     "text": [
      "Eksperter: Sådan kan den nuværende karakterskala repareres. Ny model, hvor syvtallet og karakteren minus 3 droppes, har flest fordele, evaluerer ekspertgruppe. Sådan lyder indholdet i den karakterskala, som en ekspertgruppe nedsat af regeringen vurderer har de fleste fordele. Ekspertgruppen er blevet bedt om at vurdere fire forskellige karakterskalaer, og den bedste løsning er ifølge eksperterne at 'reparere' den nuværende syvtrinskala. I de studerendes organisation, Danske Studerendes Fællesråd, mener formand Johan Hedegaard Jørgensen, at især to modeller er interessante.\n",
      "Jeg fik 8! Skal vi have nye karakterer? Du kan måske snart komme til at juble over et 6 eller 8 tal. En gruppe eksperter fortæller nemlig i dag politikerne om fire nye karakterskalaer, de har kigget på. Et bud på en ny skala er for eksempel: 00, 2, 4, 6, 8, 10, 12. Den ene skala ligner altså ret meget den vi har i dag. MEN der er ikke -3 eller en anden minuskarakter. Politikerne har selv bedt eksperterne om at se på karaktererne. Mange kan nemlig ikke lide den skala, vi har i dag. De siger, der er for meget fokus på 12 tallet og for langt fra 4 til 7 og fra 7 til 10.\n"
     ]
    }
   ],
   "source": [
    "tekst1 = \"Eksperter: Sådan kan den nuværende karakterskala repareres. Ny model, hvor syvtallet og karakteren minus 3 droppes, har flest fordele, evaluerer ekspertgruppe. Sådan lyder indholdet i den karakterskala, som en ekspertgruppe nedsat af regeringen vurderer har de fleste fordele. Ekspertgruppen er blevet bedt om at vurdere fire forskellige karakterskalaer, og den bedste løsning er ifølge eksperterne at 'reparere' den nuværende syvtrinskala. I de studerendes organisation, Danske Studerendes Fællesråd, mener formand Johan Hedegaard Jørgensen, at især to modeller er interessante.\"\n",
    "tekst2 = \"Jeg fik 8! Skal vi have nye karakterer? Du kan måske snart komme til at juble over et 6 eller 8 tal. En gruppe eksperter fortæller nemlig i dag politikerne om fire nye karakterskalaer, de har kigget på. Et bud på en ny skala er for eksempel: 00, 2, 4, 6, 8, 10, 12. Den ene skala ligner altså ret meget den vi har i dag. MEN der er ikke -3 eller en anden minuskarakter. Politikerne har selv bedt eksperterne om at se på karaktererne. Mange kan nemlig ikke lide den skala, vi har i dag. De siger, der er for meget fokus på 12 tallet og for langt fra 4 til 7 og fra 7 til 10.\"\n",
    "\n",
    "print(tekst1)\n",
    "print(tekst2)"
   ]
  },
  {
   "cell_type": "code",
   "execution_count": null,
   "id": "d569b008",
   "metadata": {},
   "outputs": [],
   "source": []
  }
 ],
 "metadata": {
  "kernelspec": {
   "display_name": "Python 3 (ipykernel)",
   "language": "python",
   "name": "python3"
  },
  "language_info": {
   "codemirror_mode": {
    "name": "ipython",
    "version": 3
   },
   "file_extension": ".py",
   "mimetype": "text/x-python",
   "name": "python",
   "nbconvert_exporter": "python",
   "pygments_lexer": "ipython3",
   "version": "3.9.10"
  }
 },
 "nbformat": 4,
 "nbformat_minor": 5
}
